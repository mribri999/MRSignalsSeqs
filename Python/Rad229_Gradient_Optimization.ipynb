{
 "cells": [
  {
   "cell_type": "code",
   "execution_count": 6,
   "id": "381b31e5",
   "metadata": {},
   "outputs": [],
   "source": [
    "# Get gropt and compile it, %%capture hides the long compile output\n",
    "#%%capture\n",
    "#!git clone https://github.com/mloecher/gropt\n",
    "#%cd gropt/python\n",
    "#!python setup.py build_ext --inplace\n",
    "\n",
    "import sys\n",
    "sys.path.append('/Users/dbe/Documents/GitHub/gropt/python/')\n",
    "import numpy as np\n",
    "import gropt # Download GrOpt from GitHub: https://github.com/mloecher/gropt\n",
    "import matplotlib.pyplot as plt"
   ]
  },
  {
   "cell_type": "code",
   "execution_count": 7,
   "id": "deabb326",
   "metadata": {},
   "outputs": [
    {
     "data": {
      "text/plain": [
       "[<matplotlib.lines.Line2D at 0x10c414990>]"
      ]
     },
     "execution_count": 7,
     "metadata": {},
     "output_type": "execute_result"
    },
    {
     "data": {
      "image/png": "[encoded data removed]",
      "text/plain": [
       "<Figure size 640x480 with 1 Axes>"
      ]
     },
     "metadata": {},
     "output_type": "display_data"
    }
   ],
   "source": [
    "# Make a simple M0 encoding gradient\n",
    "params = {}\n",
    "params['mode'] = 'free'\n",
    "params['gmax']  = 50.0  # Max Gradient Amplitude [mT/m]\n",
    "params['smax']  = 50.0  # Max Slewrate [mT/m/ms]\n",
    "params['moment_params']  = [[0, 0, 0, -1, -1, 11.74, 1.0e-3]]\n",
    "params['TE']  = 1.0\n",
    "params['dt']  = 20e-6\n",
    "\n",
    "G, dd = gropt.gropt(params);\n",
    "\n",
    "plt.plot(G.T)"
   ]
  },
  {
   "cell_type": "code",
   "execution_count": null,
   "id": "8e13836f",
   "metadata": {},
   "outputs": [],
   "source": [
    "# Generate M0 nulled diffusion waveform\n",
    "params = {}\n",
    "# Maximize b-value for diffusion waveforms\n",
    "params['mode'] = 'diff_bval'\n",
    "\n",
    "# Hardware constraints\n",
    "params['gmax']  = 50.0 # Max Gradient Amplitude [mT/m]\n",
    "params['smax']  = 50.0 # Max Slewrate [mT/m/ms]\n",
    "\n",
    "# Moment nulling\n",
    "params['MMT']  = 0\n",
    "\n",
    "# Sequence TE and dt of output [ms]\n",
    "params['TE']  = 60\n",
    "params['dt']  = 200e-6\n",
    "\n",
    "# Time from end of diffusion waveform to TE [ms]\n",
    "params['T_readout']  = 16.0\n",
    "# Time of excitation 90 [ms]\n",
    "params['T_90']  = 4.0\n",
    "# Time for 180 flip [ms]\n",
    "params['T_180']  = 6.0\n",
    "\n",
    "# Run optimization\n",
    "G, dd = gropt.gropt(params, verbose=1)\n",
    "\n",
    "plt.figure()\n",
    "plt.plot(G.T)"
   ]
  },
  {
   "cell_type": "code",
   "execution_count": null,
   "id": "c08d3712",
   "metadata": {},
   "outputs": [],
   "source": [
    "# Define the params dictionary\n",
    "params = {}\n",
    "params['mode'] = 'diff_bval'\n",
    "params['gmax'] = 50e-3       # Maximum gradient amplitude [T/m]\n",
    "params['smax'] = 100         # Maximum slew rate [T/m/s]\n",
    "params['MMT'] = 0            # Desired moment nulling (M0 = 0 for Monopolar)\n",
    "params['b'] = 1000           # Diffusion b-value [s/mm^2]\n",
    "params['T_readout'] = 0      # Time from start to center of EPI readout [ms]\n",
    "params['T_90'] = 0.0         # Duration of excitation pulse [ms]\n",
    "params['T_180'] = 6.0        # Duration of refocusing pulse [ms]\n",
    "params['dt'] = 100e-6        # Gradient raster time for optimization [s]\n",
    "\n",
    "params['TE']  = 60\n",
    "\n",
    "# Separate variables (not part of params in original)\n",
    "tmin = 5                     # Minimum time search [ms]\n",
    "tmax = 100                   # Maximum time search [ms]\n",
    "t_epi = 40                   # We set T_readout=0 to force a monopolar solution...\n",
    "\n",
    "# Run optimization\n",
    "G, dd = gropt.gropt(params, verbose=1)\n",
    "\n",
    "# Call the gradient generation function (you need to implement this)\n",
    "# G = get_min_TE_diff(params['b'], tmin, tmax, params)\n",
    "\n",
    "# Calculate the resulting b-value\n",
    "#b = get_bval(G, params)\n",
    "\n",
    "# Calculate echo time (TE) in ms\n",
    "TE = len(G) * params['dt'] * 1000 + t_epi / 2\n",
    "\n",
    "# Generate the time vector in ms\n",
    "t = 1000 * np.arange(0, len(G)) * params['dt']\n",
    "\n",
    "# Plot the gradient waveform\n",
    "plt.figure()\n",
    "plt.plot(t, -G)\n",
    "plt.axis([0, 70, -0.1 * params['gmax'], 1.1 * params['gmax']])\n",
    "plt.xlabel('Time [ms]')\n",
    "plt.ylabel('G(t) [T/m]')\n",
    "#plt.title(f\"A. MONO bval = {b:.0f} s/mm², TE = {TE:.1f} ms\")\n",
    "plt.grid(True)\n",
    "plt.tight_layout()\n",
    "plt.show()"
   ]
  }
 ],
 "metadata": {
  "kernelspec": {
   "display_name": "Python 3",
   "language": "python",
   "name": "python3"
  },
  "language_info": {
   "codemirror_mode": {
    "name": "ipython",
    "version": 3
   },
   "file_extension": ".py",
   "mimetype": "text/x-python",
   "name": "python",
   "nbconvert_exporter": "python",
   "pygments_lexer": "ipython3",
   "version": "3.11.4"
  }
 },
 "nbformat": 4,
 "nbformat_minor": 5
}
