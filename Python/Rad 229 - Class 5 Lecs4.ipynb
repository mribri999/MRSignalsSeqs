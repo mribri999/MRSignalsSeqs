{
 "cells": [
  {
   "cell_type": "markdown",
   "metadata": {
    "vscode": {
     "languageId": "latex"
    }
   },
   "source": [
    "## Radiology 229 - Class 5 Exercises (Lectures 4A-C)\n",
    "\n",
    "After watching lectures 4A-C, it is recommended that you look at the Extended Phase Graphs (EPG) tutorial in Python for reference.  \n",
    "\n",
    "Objectives:\n",
    "1) Understand the EPG basis, and transformation to/from M distribution\n",
    "2) Explore sequence operations in the EPG basis\n",
    "\n",
    "First we import basic libraries including  <code>mrsigpy</code>.\n"
   ]
  },
  {
   "cell_type": "code",
   "execution_count": null,
   "metadata": {},
   "outputs": [],
   "source": [
    "# -- We use the functions in mrsigpy, as well as standard numpy and matpltlib\n",
    "import numpy as np\n",
    "import mrsigpy as mrs\n",
    "import matplotlib.pyplot as plt\n",
    "#from PIL import Image\n"
   ]
  },
  {
   "cell_type": "markdown",
   "metadata": {},
   "source": [
    "Definitions:  The transverse magnetization is expressed as $m_{xy} = m_x + i*m_y$, and longitudinal magnetization is $m_z$.  Then we write a real-valued vector $M = [m_{xy}\\;\\; m^\\ast_{xy}\\;\\; m_z]^T$.\n",
    "\n",
    "For example, after a $90^\\circ_y$ pulse, which tips magnetization into the transverse plane, $M = [1\\;\\;1\\;\\;0]^T$.  Following a unit gradient $M=[e^{2\\pi i z}\\;\\; e^{-2\\pi i z}\\;\\;0]$.  $z$ is the voxel dimension.  You can assume the voxel goes from $z=0$ to $z=1$.  Note:  sometimes the graphics are from $z=-0.5$ to $z=0.5$, but the mathematical definition is unchanged.\n",
    "\n",
    "In the EPG basis, after the $90^\\circ_y$, the only nonzero state is $F_0=1$.  After the gradient, the only non-zero state is $F_1=1$.  It is easily seen that these F states lead to the $M$ definition above.  \n",
    "\n",
    "The $M \\rightarrow (F,Z)$ transfortion is not as obvious, but relatively clear knowing that integrals over an integer number of cycles are 0.  Recall the $F_n$ definition as $F^+_n = \\int_0^1 M_{xy}(z) e^{-2\\pi inz}dz$.\n",
    "\n",
    "Below you can see these graphically, using the Python EPG tools.\n",
    "\n"
   ]
  },
  {
   "cell_type": "code",
   "execution_count": null,
   "metadata": {},
   "outputs": [],
   "source": [
    "# -- STart after a 90y RF pulse from equilibrium:\n",
    "FZ = np.array([[1],[1],[0]])  # Following RF tip.\n",
    "mrs.epg_show(FZ,29)           # Plot, using 29 values for voxel dimension z\n",
    "\n",
    "# -- After the gradient is applied:\n",
    "FZ = np.array([[0,1],[0,0],[0,0]])\n",
    "mrs.epg_show(FZ,29)           # Plot, using 29 values for voxel dimension z\n"
   ]
  },
  {
   "cell_type": "markdown",
   "metadata": {},
   "source": [
    "You should convince yourself at this point that the displayed magnetization matches the expressions as a function of voxel volume $z$.  In particular, after the unit gradient $M=[e^{2\\pi i z}\\;\\; e^{-2\\pi i z}\\;\\;0]$.  (Note that the $F_1$ state is plotted for $z=-0.5$ to $z=0.5$.)\n",
    "\n",
    "We can test the forward $M \\rightarrow (F,Z)$ transformation in python numerically, for the magnetization after the gradient as follows."
   ]
  },
  {
   "cell_type": "code",
   "execution_count": null,
   "metadata": {},
   "outputs": [],
   "source": [
    "# -- Show the forward transformation from M to FZ after 90y and gradient.\n",
    "#\n",
    "# -- Define #spins\n",
    "nspins=29\n",
    "z = mrs.epg_spinlocs(nspins)        # voxel locations, for plotting.        \n",
    "# First do the \"inverse\" transformation FZ=>M for reference\n",
    "FZ = np.array([[0,1],[0,0],[0,0]])\n",
    "Mref = mrs.epg_FZ2spins(FZ,nspins)\n",
    "print(\"Shape of Mref is \", np.shape(Mref))\n",
    "\n",
    "\n",
    "plt.plot(z,Mref[0,:],z,Mref[1,:],z,Mref[2,:])\n",
    "plt.legend((\"Mx\",\"My\",\"Mz\"))\n",
    "plt.title(\"M reference, from EPG\")\n",
    "plt.show()\n",
    "\n",
    "FZtest = mrs.epg_spins2FZ(Mref)\n",
    "print(\"FZ test is \",FZtest)\n",
    "\n",
    "\n"
   ]
  },
  {
   "cell_type": "code",
   "execution_count": null,
   "metadata": {},
   "outputs": [],
   "source": [
    "# Now start with M and do the forward Transform M=>FZ\n",
    "# \n",
    "\n",
    "# -- Define the magnetization\n",
    "mx = np.cos(2*np.pi*z)              # Mx is the real part of Mxy\n",
    "my = np.sin(2*np.pi*z)              # Mx is the real part of Mxy\n",
    "mz = 0*mx                           # Mz is all zero here.\n",
    "plt.plot(z,mx,z,my,z,mz)            # Plot the magnetization components to check\n",
    "plt.legend((\"Mx\",\"My\",\"Mz\"))\n",
    "plt.title(\"M vectors (from analytic definition)\")\n",
    "plt.show()\n",
    "\n",
    "# -- Assemble the M matrix (mx,my,mz)\n",
    "M = np.concatenate((np.expand_dims(mx,axis=0),\n",
    "                    np.expand_dims(my,axis=0),\n",
    "                    np.expand_dims(mz,axis=0)),axis=0)  # Assemble into matrix.\n",
    "\n",
    "# -- Convert to EPG\n",
    "FZ = mrs.epg_spins2FZ(M)        # Forward M=>FZ transform.\n",
    "print(\"EPG State matrix:\", FZ)\n",
    "mrs.epg_show(FZ,29)           # Show States (again) to confirm!"
   ]
  },
  {
   "cell_type": "markdown",
   "metadata": {},
   "source": [
    "# Exercise 1:  EPG states\n",
    "\n",
    "Write the EPG state amplitudes ($Q$ matrix) for the following configurations:\n",
    "\n",
    "a) $m_x = 1$ across voxel, $m_y=m_z=0$\n",
    "\n",
    "b) $m_y = 1$ across voxel, $m_x=m_z=0$\n",
    "\n",
    "c) $m_x = \\cos(2\\pi z)$, $m_y=m_z=0$\n",
    "\n",
    "d) $m_y = \\cos(2\\pi z)$, $m_x=m_z=0$\n",
    "\n",
    "e) $m_x = \\sin(2\\pi z)$, $m_y=m_z=0$\n",
    "\n",
    "f) $m_y = \\sin(2\\pi z)$ and $m_z = 0.5\\sin(2\\pi z)$\n",
    "\n"
   ]
  },
  {
   "cell_type": "code",
   "execution_count": null,
   "metadata": {},
   "outputs": [],
   "source": [
    "# -- Exercise 1\n",
    "#\n",
    "# Display code is provided... just fill in the FZ lines\n",
    "#\n",
    "# a) \n",
    "FZ = np.array([[0],[0],[0]])\n",
    "#mrs.epg_show(FZ,29)\n",
    "\n",
    "# b) \n",
    "#FZ = np.array([[],[],[]])\n",
    "#mrs.epg_show(FZ,29)\n",
    "\n",
    "# c)\n",
    "#FZ = np.array([[],[],[]])\n",
    "M = mrs.epg_FZ2spins(FZ,nspins)\n",
    "plt.plot(z,M[0,:],z,M[1,:],z,M[2,:])\n",
    "plt.legend((\"Mx\",\"My\",\"Mz\"))\n",
    "plt.title(\"(c) Mx=cos(2pi z)\")\n",
    "plt.show()\n",
    "\n",
    "# d)\n",
    "#FZ = np.array([[],[],[]])\n",
    "M = mrs.epg_FZ2spins(FZ,nspins)\n",
    "plt.plot(z,M[0,:],z,M[1,:],z,M[2,:])\n",
    "plt.legend((\"Mx\",\"My\",\"Mz\"))\n",
    "plt.title(\"(d) My=cos(2pi z)\")\n",
    "plt.show()\n",
    "\n",
    "# e) \n",
    "#FZ = np.array([[],[],[]])\n",
    "M = mrs.epg_FZ2spins(FZ,nspins)\n",
    "plt.plot(z,M[0,:],z,M[1,:],z,M[2,:])\n",
    "plt.legend((\"Mx\",\"My\",\"Mz\"))\n",
    "plt.title(\"(c) Mx=sin(2pi z)\")\n",
    "plt.show()\n",
    "\n",
    "# f) \n",
    "#FZ = np.array([[],[],[]])\n",
    "M = mrs.epg_FZ2spins(FZ,nspins)\n",
    "plt.plot(z,M[0,:],z,M[1,:],z,M[2,:])\n",
    "plt.legend((\"Mx\",\"My\",\"Mz\"))\n",
    "plt.title(\"(c) Mx=sin(2pi z)\")\n",
    "plt.show()"
   ]
  },
  {
   "cell_type": "markdown",
   "metadata": {},
   "source": [
    "# Exercise 2:  Sequence Operations\n",
    "\n",
    "Use the EPG operations on a sequence (RF, gradient, etc) to get to these states from $m_0$\n",
    "\n",
    "a) $F_0$ = 1\n",
    "\n",
    "b) $F^-_2$ = 1\n",
    "\n",
    "c) $Z_1$ = 0.5\n"
   ]
  },
  {
   "cell_type": "code",
   "execution_count": null,
   "metadata": {},
   "outputs": [],
   "source": [
    "# -- Exercise -- Use sequence operations to get to these states\n",
    "\n",
    "# F0=1\n",
    "FZ = mrs.epg_m0()\n",
    "# operations here\n",
    "# check output\n",
    "mrs.epg_show(FZ)\n",
    "\n",
    "# F-{2} = 1\n",
    "FZ = mrs.epg_m0()\n",
    "# operations here\n",
    "# check output\n",
    "mrs.epg_show(FZ)\n",
    "\n",
    "# Z1=0.5\n",
    "FZ = mrs.epg_m0()\n",
    "# operations here\n",
    "# check output\n",
    "mrs.epg_show(FZ)\n"
   ]
  },
  {
   "cell_type": "markdown",
   "metadata": {},
   "source": [
    "# Sequence Operations (cont)\n",
    "\n",
    "Next we do the stimulated example in the lecture:"
   ]
  },
  {
   "cell_type": "code",
   "execution_count": null,
   "metadata": {},
   "outputs": [],
   "source": [
    "# -- Basic 90-grad-90-grad sequence\n",
    "# -- Code is the same as class slide (Matlab)\n",
    "# \n",
    "FZ = mrs.epg_m0()\n",
    "FZ = mrs.epg_rf(FZ)        # Defaults to π/2y\n",
    "FZ = mrs.epg_grad(FZ)      \n",
    "FZ = mrs.epg_rf(FZ)      \n",
    "FZ = mrs.epg_grad(FZ)\n",
    "mrs.epg_show(FZ,Nspins=29)"
   ]
  },
  {
   "cell_type": "markdown",
   "metadata": {},
   "source": [
    "# Exercise 3:  60-degree Stimulated Echo Example\n",
    "Use the above example to write EPG code to show the state evolution in the notes, and convince yourself of the slide animations.\n",
    "\n"
   ]
  },
  {
   "cell_type": "code",
   "execution_count": null,
   "metadata": {},
   "outputs": [],
   "source": [
    "# -- Exercise:  60-degree 3-Echo Stimulated Echo example\n",
    "#\n",
    "# Get above code and modify as follows:\n",
    "#   Insert more mrs.epg_show() functions to show intermediate stages\n",
    "#   change the flip angles to 60\n",
    "\n",
    "\n"
   ]
  },
  {
   "cell_type": "markdown",
   "metadata": {},
   "source": [
    "# Exercise 4:  180x Refocusing Pulse\n",
    "Write a python loop to \"animate\" the 180x Refocusing pulse."
   ]
  },
  {
   "cell_type": "code",
   "execution_count": null,
   "metadata": {},
   "outputs": [],
   "source": [
    "# -- Exercise:  180x Refocusing pulse\n",
    "FZ = np.array([[0,1],[0,0],[0,0]])      # Start with F1=1\n",
    "astep =                                 # angle step in degrees\n",
    "angles = np.arange(0,180+astep,astep)\n",
    "for ang in angles:\n",
    "    FZp = mrs.epg_rf(FZ,ang,0)          # Rotate from start (could do from last)\n",
    "    mrs.epg_show(FZp)                   # Show output (a bit messy!)\n"
   ]
  }
 ],
 "metadata": {
  "kernelspec": {
   "display_name": "base",
   "language": "python",
   "name": "python3"
  },
  "language_info": {
   "codemirror_mode": {
    "name": "ipython",
    "version": 3
   },
   "file_extension": ".py",
   "mimetype": "text/x-python",
   "name": "python",
   "nbconvert_exporter": "python",
   "pygments_lexer": "ipython3",
   "version": "3.7.4"
  }
 },
 "nbformat": 4,
 "nbformat_minor": 2
}
