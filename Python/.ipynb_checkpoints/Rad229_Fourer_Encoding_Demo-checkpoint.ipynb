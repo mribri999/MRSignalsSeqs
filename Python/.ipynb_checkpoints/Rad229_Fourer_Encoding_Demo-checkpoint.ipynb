{
 "cells": [
  {
   "cell_type": "code",
   "execution_count": 2,
   "id": "85141b24-068e-48d7-bd71-ee5fc08d61c2",
   "metadata": {},
   "outputs": [
    {
     "name": "stdout",
     "output_type": "stream",
     "text": [
      "dict_keys(['__header__', '__version__', '__globals__', 'D', 'map', 'siz'])\n"
     ]
    }
   ],
   "source": [
    "# This script demonstrates MRI Fourier encoding (k-space)\n",
    "# This script is incomplete. Your assignment is to complete it!\n",
    "\n",
    "import numpy as np\n",
    "import matplotlib.pyplot as plt\n",
    "from scipy.io import loadmat\n",
    "from skimage.transform import resize\n",
    "\n",
    "# Define MRI system constants\n",
    "def Rad229_MRI_sys_config():\n",
    "    # Placeholder for MRI system config\n",
    "    sys = {\n",
    "        'gamma': 42.58e6,  # example gyromagnetic ratio (Hz/T)\n",
    "        'G_max': 40e-3,    # example max gradient (T/m)\n",
    "        'BW': 125e3,       # bandwidth in Hz\n",
    "    }\n",
    "    return sys\n",
    "\n",
    "# sys = Rad229_MRI_sys_config()\n",
    "\n",
    "# Load sample MRI data\n",
    "D = loadmat('MRI.mat')\n",
    "print(D.keys()) # If you want to inspect the loaded data"
   ]
  },
  {
   "cell_type": "code",
   "execution_count": 1,
   "id": "e879da8a-b24b-472a-96aa-59ecc113950e",
   "metadata": {},
   "outputs": [
    {
     "ename": "NameError",
     "evalue": "name 'D' is not defined",
     "output_type": "error",
     "traceback": [
      "\u001b[31m---------------------------------------------------------------------------\u001b[39m",
      "\u001b[31mNameError\u001b[39m                                 Traceback (most recent call last)",
      "\u001b[36mCell\u001b[39m\u001b[36m \u001b[39m\u001b[32mIn[1]\u001b[39m\u001b[32m, line 10\u001b[39m\n\u001b[32m      1\u001b[39m \u001b[38;5;66;03m# Equivalent to MATLAB's 'load MRI' – we use scikit-image or simulate data\u001b[39;00m\n\u001b[32m      2\u001b[39m \u001b[38;5;66;03m# Here we'll just simulate a sample image using numpy\u001b[39;00m\n\u001b[32m      3\u001b[39m \u001b[38;5;66;03m#from skimage import data\u001b[39;00m\n\u001b[32m   (...)\u001b[39m\u001b[32m      8\u001b[39m \u001b[38;5;66;03m# I = resize(D, (int(D.shape[0]*0.3), int(D.shape[1]*0.3)), anti_aliasing=True)\u001b[39;00m\n\u001b[32m      9\u001b[39m \u001b[38;5;66;03m# I = I[:, 1:-1]  # Remove first and last columns\u001b[39;00m\n\u001b[32m---> \u001b[39m\u001b[32m10\u001b[39m I = \u001b[43mD\u001b[49m[\u001b[33m'\u001b[39m\u001b[33mD\u001b[39m\u001b[33m'\u001b[39m]\n\u001b[32m     12\u001b[39m \u001b[38;5;66;03m# Display original and reconstructed images\u001b[39;00m\n\u001b[32m     13\u001b[39m plt.figure(figsize=(\u001b[32m10\u001b[39m, \u001b[32m4\u001b[39m))\n",
      "\u001b[31mNameError\u001b[39m: name 'D' is not defined"
     ]
    }
   ],
   "source": [
    "# Equivalent to MATLAB's 'load MRI' – we use scikit-image or simulate data\n",
    "# Here we'll just simulate a sample image using numpy\n",
    "#from skimage import data\n",
    "#D = data.moon()  # Replace with actual MRI slice if available\n",
    "#D = D.astype(np.float64)\n",
    "\n",
    "# Resize and crop similar to MATLAB behavior\n",
    "# I = resize(D, (int(D.shape[0]*0.3), int(D.shape[1]*0.3)), anti_aliasing=True)\n",
    "# I = I[:, 1:-1]  # Remove first and last columns\n",
    "I = D['D']\n",
    "\n",
    "# Display original and reconstructed images\n",
    "plt.figure(figsize=(10, 4))\n",
    "plt.subplot(1, 2, 1)\n",
    "plt.title(\"Original Image\")\n",
    "plt.imshow(I, cmap='gray')\n",
    "plt.axis('off')"
   ]
  },
  {
   "cell_type": "code",
   "execution_count": null,
   "id": "1c828cfa-218b-4f07-aaff-7fb2911b2f3f",
   "metadata": {},
   "outputs": [],
   "source": [
    "# Define the acquisition parameters matched to the object I\n",
    "acq = {\n",
    "    'FOVx': 0.3,  # Placeholder field of view (in meters)\n",
    "    'FOVy': 0.3,\n",
    "    'Nx': I.ndim[1],\n",
    "    'Ny': I.ndim[0]\n",
    "}\n",
    "\n",
    "# Compute the Fourier sampling coefficients (k-space)\n",
    "# Placeholder function to simulate MRI encoding\n",
    "def Rad229_Fourier_Encoding(I, acq):\n",
    "    # Simulate k-space as a 2D FFT of the image\n",
    "    F = np.fft.fftshift(np.fft.fft2(I))\n",
    "    return F\n",
    "\n",
    "F = Rad229_Fourier_Encoding(I, acq)\n",
    "\n",
    "# Compute inverse FFT of k-space to recover image\n",
    "I_recon = np.abs(np.fft.ifft2(np.fft.ifftshift(F)))\n",
    "\n",
    "# Display original and reconstructed images\n",
    "plt.figure(figsize=(10, 4))\n",
    "plt.subplot(1, 2, 1)\n",
    "plt.title(\"Original Image\")\n",
    "plt.imshow(I, cmap='gray')\n",
    "plt.axis('off')\n",
    "\n",
    "plt.subplot(1, 2, 2)\n",
    "plt.title(\"Reconstructed Image\")\n",
    "plt.imshow(I_recon, cmap='gray')\n",
    "plt.axis('off')\n",
    "plt.show()"
   ]
  },
  {
   "cell_type": "code",
   "execution_count": null,
   "id": "d5b93845-bc7d-4c68-ad79-69e8d2ecea8d",
   "metadata": {},
   "outputs": [],
   "source": []
  },
  {
   "cell_type": "code",
   "execution_count": null,
   "id": "b8297943-d5a0-425a-8c48-7312b14bd8e5",
   "metadata": {},
   "outputs": [],
   "source": []
  }
 ],
 "metadata": {
  "kernelspec": {
   "display_name": "Python 3 (ipykernel)",
   "language": "python",
   "name": "python3"
  },
  "language_info": {
   "codemirror_mode": {
    "name": "ipython",
    "version": 3
   },
   "file_extension": ".py",
   "mimetype": "text/x-python",
   "name": "python",
   "nbconvert_exporter": "python",
   "pygments_lexer": "ipython3",
   "version": "3.12.5"
  }
 },
 "nbformat": 4,
 "nbformat_minor": 5
}
