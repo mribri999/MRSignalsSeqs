{
 "cells": [
  {
   "cell_type": "markdown",
   "metadata": {
    "vscode": {
     "languageId": "latex"
    }
   },
   "source": [
    "## Radiology 229 - Class 2 Exercises\n",
    "\n",
    "Exercises for Lectures 02A and 02B will wait until the bloch equation and simulation is taught (soon!).\n",
    "We begin with Lecture 02C\n",
    "Objectives:\n",
    "1) Familiarize yourself with Python/Matlab methods to display images\n",
    "2) Explore image encoding in k-space\n",
    "\n",
    "First we import the basic functions.  Note <code>mrsigpy</code> has a lot of functions for RAD229.\n"
   ]
  },
  {
   "cell_type": "code",
   "execution_count": null,
   "metadata": {},
   "outputs": [],
   "source": [
    "# -- We use the functions in mrsigpy, as well as standard numpy and matpltlib\n",
    "import numpy as np\n",
    "import mrsigpy as mrs\n",
    "import matplotlib.pyplot as plt\n",
    "from PIL import Image\n"
   ]
  },
  {
   "cell_type": "markdown",
   "metadata": {},
   "source": [
    "Some basic functions that will help you are displaying, cropping and zero-padding images.  We often use a \"window/level\" in medical imaging, where the level is (white+black)/2 and the window is (white-black).  But here we can use the white and black levels."
   ]
  },
  {
   "cell_type": "code",
   "execution_count": null,
   "metadata": {},
   "outputs": [],
   "source": [
    "# -- Load an image and display it in different ways\n",
    "\n",
    "image = Image.open(\"axbrain256.jpg\")\n",
    "image = np.double(image)\n",
    "mrs.dispim(image)          # Default\n",
    "mrs.dispim(image,0,200)   # About the same, but set levels explicitly.\n",
    "mrs.dispim(image,50,120)  # Much more contrast (too much!)\n",
    "mrs.dispim(mrs.zpadcrop(image,(128,128)))  # Cropped the image to 128\n",
    "mrs.dispim(mrs.zpadcrop(image,(512,512)))  # Zero-pad\n"
   ]
  },
  {
   "cell_type": "markdown",
   "metadata": {},
   "source": [
    "Here we define a square image.  Then we take the Fourier transform, which gives us the k-space signal S(k).  Here we use the forward Forier transform to encode images in k-space and the inverse Fourier transform to reconstruct the image from k-space, though swapping these will not matter much.  _Can you explain the k-space phase?_"
   ]
  },
  {
   "cell_type": "code",
   "execution_count": null,
   "metadata": {},
   "outputs": [],
   "source": [
    "\n",
    "# -- Define an image to be a small square\n",
    "imsize = 256\n",
    "sqsize = 16\n",
    "im = mrs.sq(16,256)\n",
    "\n",
    "# -- Display Image magnitude \n",
    "plt.imshow(im, cmap=\"gray\")\n",
    "plt.axis(\"off\")  # Hide axes\n",
    "plt.title(\"Image Magnitude\")\n",
    "plt.show()\n",
    "# -- Take 2D Fourier Transform of image\n",
    "kspace = np.fft.fftshift(np.fft.fft2(np.fft.fftshift(im)))\n",
    "\n",
    "# -- Display k-space of image (magnitude and phase!)\n",
    "#\n",
    "plt.imshow(np.abs(kspace), cmap=\"gray\")\n",
    "plt.axis(\"off\")  # Hide axes\n",
    "plt.title(\"k-space Magnitude\")\n",
    "plt.show()\n",
    "\n",
    "plt.imshow(np.angle(kspace), cmap=\"gray\")\n",
    "plt.axis(\"off\")  # Hide axes\n",
    "plt.title(\"k-space Phase\")\n",
    "plt.show()\n",
    "\n",
    "\n",
    "\n",
    "\n",
    "\n"
   ]
  },
  {
   "cell_type": "markdown",
   "metadata": {},
   "source": [
    "We will often want to look at the k-space data, and then the image, so use the function <code>mrsigpy.dispkspim</code> (equivalent of <code>dispkspim.m</code> in Matlab)"
   ]
  },
  {
   "cell_type": "code",
   "execution_count": null,
   "metadata": {},
   "outputs": [],
   "source": [
    "# Show a compact function of this from mrsigpy:\n",
    "sqim = mrs.dispkspim(kspace)\n"
   ]
  },
  {
   "cell_type": "markdown",
   "metadata": {},
   "source": [
    "# Exercise 1  (Image Scaling)\n",
    "Make the square 2x larger in both dimensions.  What happens to the k-space signal?"
   ]
  },
  {
   "cell_type": "code",
   "execution_count": null,
   "metadata": {},
   "outputs": [],
   "source": [
    "#Exercise 1:  Image Scaling\n",
    "\n"
   ]
  },
  {
   "cell_type": "markdown",
   "metadata": {},
   "source": [
    "# Exercise 2  (Image Shifting)\n",
    "Shift the square by 1 pixel.  Describe what happens to the k-space signal as exactly as we can? "
   ]
  },
  {
   "cell_type": "code",
   "execution_count": null,
   "metadata": {},
   "outputs": [],
   "source": [
    "# Exercise 2:  Image Shifting\n"
   ]
  },
  {
   "cell_type": "markdown",
   "metadata": {},
   "source": [
    "# Spatial Frequencies (Harmonics)\n",
    "Now let us look at \"spatial frequencies\" that correspond to k-space (Lecture 2B, Slide 8).  We can fairly easily duplicate these pictures now that we know how to do Fourier Transforms!  Here we show how to make the top left harmonic, which corresponds to one sample in k-space"
   ]
  },
  {
   "cell_type": "code",
   "execution_count": null,
   "metadata": {},
   "outputs": [],
   "source": [
    "# -- Show 8-cycle harmonic\n",
    "# \n",
    "# -- Set k-space signal to 0 except for the sample 5 points above and 5 points to the left of the origin.\n",
    "ksp = np.zeros((256,256))\n",
    "ksp[123,123]=1\n",
    "\n",
    "# -- Take the inverse Fourier transform and display the magnitude and phase image.  \n",
    "mrs.dispkspim(ksp)\n"
   ]
  },
  {
   "cell_type": "markdown",
   "metadata": {},
   "source": [
    "# Exercise 3 (Spatial Harmonics)\n",
    "Repeat the above to make ALL of the other harmonics shown on slide 8."
   ]
  },
  {
   "cell_type": "code",
   "execution_count": null,
   "metadata": {},
   "outputs": [],
   "source": [
    "# -- Exercise 3:  Show other spatial harmonics\n",
    "#\n",
    "\n"
   ]
  },
  {
   "cell_type": "markdown",
   "metadata": {},
   "source": [
    "# Image, Contrast and Edge Information}\n",
    "\n",
    "To work in k-space, we will use the function dispkspim to quickly display the k-space and image magnitude and phase.\n"
   ]
  },
  {
   "cell_type": "code",
   "execution_count": null,
   "metadata": {},
   "outputs": [],
   "source": [
    "# -- Load image data - time to show something nice!\n",
    "#\n",
    "image = Image.open(\"axbrain256.jpg\")\n",
    "imsize = np.shape(image)\n",
    "mrs.dispim(image)\n",
    "# -- Fourier transform to k-space\n",
    "#\n",
    "ksp = np.fft.fftshift(np.fft.fft2(np.fft.fftshift(image))) \n",
    "mrs.dispkspim(ksp)\n",
    "\n",
    "# -- Filter just the high spatial frequencies, display k-space and the image\n",
    "\n",
    "sqsize = 24\n",
    "# -- Show low-pass (contrast)\n",
    "klpf = mrs.sq(sqsize,imsize[0],imsize[1])\n",
    "mrs.dispkspim(klpf * ksp)\n",
    "\n",
    "\n"
   ]
  },
  {
   "cell_type": "markdown",
   "metadata": {},
   "source": [
    "Exercise 4 (Contrast/Edge):  Using the above, make the \"edges\" for the image.\n"
   ]
  },
  {
   "cell_type": "code",
   "execution_count": null,
   "metadata": {},
   "outputs": [],
   "source": [
    "# -- Exercise 4:  Edges\n"
   ]
  },
  {
   "cell_type": "markdown",
   "metadata": {},
   "source": [
    "Exercise 5 (Resolution):  Crop away some of the edge information to reduce the image resolution and display the image.  (Do this enough that you can see the effect!)"
   ]
  },
  {
   "cell_type": "code",
   "execution_count": null,
   "metadata": {},
   "outputs": [],
   "source": [
    "# -- Exercise 5:  Resolution\n"
   ]
  },
  {
   "cell_type": "markdown",
   "metadata": {},
   "source": [
    "Exercise 6 (Ringing):  Repeat exercise 5, but use a smoother \"window\" function - can you reduce the ringing in the image?"
   ]
  },
  {
   "cell_type": "code",
   "execution_count": null,
   "metadata": {},
   "outputs": [],
   "source": [
    "# --- Exercise 6:  Reduce Ringing\n"
   ]
  },
  {
   "cell_type": "markdown",
   "metadata": {},
   "source": [
    "Exercise 7 (FOV):  Set every 2nd line of the image to 0 and reconstruct the image magnitide and phase.  What do you see?  Now repeat this with the other lines of k-space.  What changed?"
   ]
  },
  {
   "cell_type": "code",
   "execution_count": null,
   "metadata": {},
   "outputs": [],
   "source": [
    "# -- Exercise 7:  FOV/Aliasing\n"
   ]
  },
  {
   "cell_type": "markdown",
   "metadata": {},
   "source": [
    "Exercise 8 (Half-Fourier):  We know our image is real-valued, so the k-space has hermitian symmetry.  Set the top half of the k-space to 0, to pretend you only acquired the bottom.  Show the resulting image?  If the original image is real-valued, can you think of a way to reconstruct the image perfectly using only (about) half the k-space data?\n"
   ]
  },
  {
   "cell_type": "code",
   "execution_count": null,
   "metadata": {},
   "outputs": [],
   "source": [
    "# -- Exercise 8:  Half-Fourier\n",
    "# \n"
   ]
  }
 ],
 "metadata": {
  "kernelspec": {
   "display_name": "base",
   "language": "python",
   "name": "python3"
  },
  "language_info": {
   "codemirror_mode": {
    "name": "ipython",
    "version": 3
   },
   "file_extension": ".py",
   "mimetype": "text/x-python",
   "name": "python",
   "nbconvert_exporter": "python",
   "pygments_lexer": "ipython3",
   "version": "3.7.4"
  }
 },
 "nbformat": 4,
 "nbformat_minor": 2
}
